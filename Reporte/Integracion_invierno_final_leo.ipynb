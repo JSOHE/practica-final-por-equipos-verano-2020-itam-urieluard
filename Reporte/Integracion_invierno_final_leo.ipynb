{
 "cells": [
  {
   "cell_type": "markdown",
   "metadata": {},
   "source": [
    "## Para calcular el área bajo la curva (datos de invierno):"
   ]
  },
  {
   "cell_type": "code",
   "execution_count": 1,
   "metadata": {},
   "outputs": [],
   "source": [
    "import pandas as pd\n",
    "import os\n",
    "import numpy as np\n",
    "from scipy.interpolate import interp1d\n",
    "import math\n",
    "import matplotlib.pyplot as plt\n",
    "import pprint"
   ]
  },
  {
   "cell_type": "code",
   "execution_count": 2,
   "metadata": {},
   "outputs": [
    {
     "data": {
      "text/plain": [
       "'/datos/Practica_final_equipos'"
      ]
     },
     "execution_count": 2,
     "metadata": {},
     "output_type": "execute_result"
    }
   ],
   "source": [
    "os.getcwd()"
   ]
  },
  {
   "cell_type": "markdown",
   "metadata": {},
   "source": [
    "### Generamos el DataFrame con los datos por segundo:"
   ]
  },
  {
   "cell_type": "code",
   "execution_count": 3,
   "metadata": {},
   "outputs": [],
   "source": [
    "data_segundos_inv = pd.read_csv(\"Invierno_4.csv\")"
   ]
  },
  {
   "cell_type": "code",
   "execution_count": 4,
   "metadata": {},
   "outputs": [
    {
     "data": {
      "text/html": [
       "<div>\n",
       "<style scoped>\n",
       "    .dataframe tbody tr th:only-of-type {\n",
       "        vertical-align: middle;\n",
       "    }\n",
       "\n",
       "    .dataframe tbody tr th {\n",
       "        vertical-align: top;\n",
       "    }\n",
       "\n",
       "    .dataframe thead th {\n",
       "        text-align: right;\n",
       "    }\n",
       "</style>\n",
       "<table border=\"1\" class=\"dataframe\">\n",
       "  <thead>\n",
       "    <tr style=\"text-align: right;\">\n",
       "      <th></th>\n",
       "      <th>Hora</th>\n",
       "      <th>Demanda</th>\n",
       "      <th>Unnamed: 2</th>\n",
       "      <th>Unnamed: 3</th>\n",
       "      <th>03OCC   .CR-CARGA AREA           .AV</th>\n",
       "    </tr>\n",
       "  </thead>\n",
       "  <tbody>\n",
       "    <tr>\n",
       "      <th>0</th>\n",
       "      <td>08-ene-19 00:00:00</td>\n",
       "      <td>7284.051758</td>\n",
       "      <td>NaN</td>\n",
       "      <td>NaN</td>\n",
       "      <td>1/8/19 0:00</td>\n",
       "    </tr>\n",
       "    <tr>\n",
       "      <th>1</th>\n",
       "      <td>08-ene-19 00:00:02</td>\n",
       "      <td>7287.105957</td>\n",
       "      <td>NaN</td>\n",
       "      <td>NaN</td>\n",
       "      <td>1/9/19 0:00</td>\n",
       "    </tr>\n",
       "    <tr>\n",
       "      <th>2</th>\n",
       "      <td>08-ene-19 00:00:04</td>\n",
       "      <td>7292.275391</td>\n",
       "      <td>NaN</td>\n",
       "      <td>NaN</td>\n",
       "      <td>2 s</td>\n",
       "    </tr>\n",
       "    <tr>\n",
       "      <th>3</th>\n",
       "      <td>08-ene-19 00:00:06</td>\n",
       "      <td>7294.792969</td>\n",
       "      <td>NaN</td>\n",
       "      <td>NaN</td>\n",
       "      <td>NaN</td>\n",
       "    </tr>\n",
       "    <tr>\n",
       "      <th>4</th>\n",
       "      <td>08-ene-19 00:00:08</td>\n",
       "      <td>7298.662109</td>\n",
       "      <td>NaN</td>\n",
       "      <td>NaN</td>\n",
       "      <td>NaN</td>\n",
       "    </tr>\n",
       "  </tbody>\n",
       "</table>\n",
       "</div>"
      ],
      "text/plain": [
       "                 Hora      Demanda  Unnamed: 2  Unnamed: 3  \\\n",
       "0  08-ene-19 00:00:00  7284.051758         NaN         NaN   \n",
       "1  08-ene-19 00:00:02  7287.105957         NaN         NaN   \n",
       "2  08-ene-19 00:00:04  7292.275391         NaN         NaN   \n",
       "3  08-ene-19 00:00:06  7294.792969         NaN         NaN   \n",
       "4  08-ene-19 00:00:08  7298.662109         NaN         NaN   \n",
       "\n",
       "  03OCC   .CR-CARGA AREA           .AV  \n",
       "0                          1/8/19 0:00  \n",
       "1                          1/9/19 0:00  \n",
       "2                                  2 s  \n",
       "3                                  NaN  \n",
       "4                                  NaN  "
      ]
     },
     "execution_count": 4,
     "metadata": {},
     "output_type": "execute_result"
    }
   ],
   "source": [
    "data_segundos_inv.head()"
   ]
  },
  {
   "cell_type": "code",
   "execution_count": 5,
   "metadata": {},
   "outputs": [
    {
     "name": "stdout",
     "output_type": "stream",
     "text": [
      "[0.0000e+00 2.0000e+00 4.0000e+00 ... 8.6396e+04 8.6398e+04 8.6400e+04]\n"
     ]
    }
   ],
   "source": [
    "seg = np.linspace(0, 86400, 43201)\n",
    "print(seg)"
   ]
  },
  {
   "cell_type": "code",
   "execution_count": 6,
   "metadata": {},
   "outputs": [
    {
     "data": {
      "text/plain": [
       "43201"
      ]
     },
     "execution_count": 6,
     "metadata": {},
     "output_type": "execute_result"
    }
   ],
   "source": [
    "len(seg)"
   ]
  },
  {
   "cell_type": "code",
   "execution_count": 7,
   "metadata": {},
   "outputs": [
    {
     "name": "stdout",
     "output_type": "stream",
     "text": [
      "[0.0000e+00 2.0000e+00 4.0000e+00 ... 8.6396e+04 8.6398e+04 8.6400e+04]\n"
     ]
    }
   ],
   "source": [
    "a_seg = np.array(seg)\n",
    "print(a_seg)"
   ]
  },
  {
   "cell_type": "code",
   "execution_count": 11,
   "metadata": {},
   "outputs": [
    {
     "data": {
      "text/html": [
       "<div>\n",
       "<style scoped>\n",
       "    .dataframe tbody tr th:only-of-type {\n",
       "        vertical-align: middle;\n",
       "    }\n",
       "\n",
       "    .dataframe tbody tr th {\n",
       "        vertical-align: top;\n",
       "    }\n",
       "\n",
       "    .dataframe thead th {\n",
       "        text-align: right;\n",
       "    }\n",
       "</style>\n",
       "<table border=\"1\" class=\"dataframe\">\n",
       "  <thead>\n",
       "    <tr style=\"text-align: right;\">\n",
       "      <th></th>\n",
       "      <th>Segundo</th>\n",
       "    </tr>\n",
       "  </thead>\n",
       "  <tbody>\n",
       "    <tr>\n",
       "      <th>0</th>\n",
       "      <td>0.0</td>\n",
       "    </tr>\n",
       "    <tr>\n",
       "      <th>1</th>\n",
       "      <td>2.0</td>\n",
       "    </tr>\n",
       "    <tr>\n",
       "      <th>2</th>\n",
       "      <td>4.0</td>\n",
       "    </tr>\n",
       "    <tr>\n",
       "      <th>3</th>\n",
       "      <td>6.0</td>\n",
       "    </tr>\n",
       "    <tr>\n",
       "      <th>4</th>\n",
       "      <td>8.0</td>\n",
       "    </tr>\n",
       "    <tr>\n",
       "      <th>...</th>\n",
       "      <td>...</td>\n",
       "    </tr>\n",
       "    <tr>\n",
       "      <th>43196</th>\n",
       "      <td>86392.0</td>\n",
       "    </tr>\n",
       "    <tr>\n",
       "      <th>43197</th>\n",
       "      <td>86394.0</td>\n",
       "    </tr>\n",
       "    <tr>\n",
       "      <th>43198</th>\n",
       "      <td>86396.0</td>\n",
       "    </tr>\n",
       "    <tr>\n",
       "      <th>43199</th>\n",
       "      <td>86398.0</td>\n",
       "    </tr>\n",
       "    <tr>\n",
       "      <th>43200</th>\n",
       "      <td>86400.0</td>\n",
       "    </tr>\n",
       "  </tbody>\n",
       "</table>\n",
       "<p>43201 rows × 1 columns</p>\n",
       "</div>"
      ],
      "text/plain": [
       "       Segundo\n",
       "0          0.0\n",
       "1          2.0\n",
       "2          4.0\n",
       "3          6.0\n",
       "4          8.0\n",
       "...        ...\n",
       "43196  86392.0\n",
       "43197  86394.0\n",
       "43198  86396.0\n",
       "43199  86398.0\n",
       "43200  86400.0\n",
       "\n",
       "[43201 rows x 1 columns]"
      ]
     },
     "execution_count": 11,
     "metadata": {},
     "output_type": "execute_result"
    }
   ],
   "source": [
    "data_seg_inv = pd.DataFrame(seg, columns = [\"Segundo\"]) \n",
    "data_seg_inv"
   ]
  },
  {
   "cell_type": "code",
   "execution_count": 12,
   "metadata": {},
   "outputs": [
    {
     "data": {
      "text/html": [
       "<div>\n",
       "<style scoped>\n",
       "    .dataframe tbody tr th:only-of-type {\n",
       "        vertical-align: middle;\n",
       "    }\n",
       "\n",
       "    .dataframe tbody tr th {\n",
       "        vertical-align: top;\n",
       "    }\n",
       "\n",
       "    .dataframe thead th {\n",
       "        text-align: right;\n",
       "    }\n",
       "</style>\n",
       "<table border=\"1\" class=\"dataframe\">\n",
       "  <thead>\n",
       "    <tr style=\"text-align: right;\">\n",
       "      <th></th>\n",
       "      <th>Demanda</th>\n",
       "    </tr>\n",
       "  </thead>\n",
       "  <tbody>\n",
       "    <tr>\n",
       "      <th>0</th>\n",
       "      <td>7284.051758</td>\n",
       "    </tr>\n",
       "    <tr>\n",
       "      <th>1</th>\n",
       "      <td>7287.105957</td>\n",
       "    </tr>\n",
       "    <tr>\n",
       "      <th>2</th>\n",
       "      <td>7292.275391</td>\n",
       "    </tr>\n",
       "    <tr>\n",
       "      <th>3</th>\n",
       "      <td>7294.792969</td>\n",
       "    </tr>\n",
       "    <tr>\n",
       "      <th>4</th>\n",
       "      <td>7298.662109</td>\n",
       "    </tr>\n",
       "    <tr>\n",
       "      <th>...</th>\n",
       "      <td>...</td>\n",
       "    </tr>\n",
       "    <tr>\n",
       "      <th>43196</th>\n",
       "      <td>7284.542969</td>\n",
       "    </tr>\n",
       "    <tr>\n",
       "      <th>43197</th>\n",
       "      <td>7279.739258</td>\n",
       "    </tr>\n",
       "    <tr>\n",
       "      <th>43198</th>\n",
       "      <td>7277.975098</td>\n",
       "    </tr>\n",
       "    <tr>\n",
       "      <th>43199</th>\n",
       "      <td>7284.878906</td>\n",
       "    </tr>\n",
       "    <tr>\n",
       "      <th>43200</th>\n",
       "      <td>7283.551758</td>\n",
       "    </tr>\n",
       "  </tbody>\n",
       "</table>\n",
       "<p>43201 rows × 1 columns</p>\n",
       "</div>"
      ],
      "text/plain": [
       "           Demanda\n",
       "0      7284.051758\n",
       "1      7287.105957\n",
       "2      7292.275391\n",
       "3      7294.792969\n",
       "4      7298.662109\n",
       "...            ...\n",
       "43196  7284.542969\n",
       "43197  7279.739258\n",
       "43198  7277.975098\n",
       "43199  7284.878906\n",
       "43200  7283.551758\n",
       "\n",
       "[43201 rows x 1 columns]"
      ]
     },
     "execution_count": 12,
     "metadata": {},
     "output_type": "execute_result"
    }
   ],
   "source": [
    "DEM_INV = pd.DataFrame(data_segundos_inv.Demanda, columns = [\"Demanda\"])\n",
    "DEM_INV"
   ]
  },
  {
   "cell_type": "markdown",
   "metadata": {},
   "source": [
    "Así se ve el DataFrame al final:"
   ]
  },
  {
   "cell_type": "code",
   "execution_count": 13,
   "metadata": {},
   "outputs": [
    {
     "data": {
      "text/html": [
       "<div>\n",
       "<style scoped>\n",
       "    .dataframe tbody tr th:only-of-type {\n",
       "        vertical-align: middle;\n",
       "    }\n",
       "\n",
       "    .dataframe tbody tr th {\n",
       "        vertical-align: top;\n",
       "    }\n",
       "\n",
       "    .dataframe thead th {\n",
       "        text-align: right;\n",
       "    }\n",
       "</style>\n",
       "<table border=\"1\" class=\"dataframe\">\n",
       "  <thead>\n",
       "    <tr style=\"text-align: right;\">\n",
       "      <th></th>\n",
       "      <th>Segundo</th>\n",
       "      <th>Demanda</th>\n",
       "    </tr>\n",
       "  </thead>\n",
       "  <tbody>\n",
       "    <tr>\n",
       "      <th>0</th>\n",
       "      <td>0.0</td>\n",
       "      <td>7284.051758</td>\n",
       "    </tr>\n",
       "    <tr>\n",
       "      <th>1</th>\n",
       "      <td>2.0</td>\n",
       "      <td>7287.105957</td>\n",
       "    </tr>\n",
       "    <tr>\n",
       "      <th>2</th>\n",
       "      <td>4.0</td>\n",
       "      <td>7292.275391</td>\n",
       "    </tr>\n",
       "    <tr>\n",
       "      <th>3</th>\n",
       "      <td>6.0</td>\n",
       "      <td>7294.792969</td>\n",
       "    </tr>\n",
       "    <tr>\n",
       "      <th>4</th>\n",
       "      <td>8.0</td>\n",
       "      <td>7298.662109</td>\n",
       "    </tr>\n",
       "    <tr>\n",
       "      <th>...</th>\n",
       "      <td>...</td>\n",
       "      <td>...</td>\n",
       "    </tr>\n",
       "    <tr>\n",
       "      <th>43196</th>\n",
       "      <td>86392.0</td>\n",
       "      <td>7284.542969</td>\n",
       "    </tr>\n",
       "    <tr>\n",
       "      <th>43197</th>\n",
       "      <td>86394.0</td>\n",
       "      <td>7279.739258</td>\n",
       "    </tr>\n",
       "    <tr>\n",
       "      <th>43198</th>\n",
       "      <td>86396.0</td>\n",
       "      <td>7277.975098</td>\n",
       "    </tr>\n",
       "    <tr>\n",
       "      <th>43199</th>\n",
       "      <td>86398.0</td>\n",
       "      <td>7284.878906</td>\n",
       "    </tr>\n",
       "    <tr>\n",
       "      <th>43200</th>\n",
       "      <td>86400.0</td>\n",
       "      <td>7283.551758</td>\n",
       "    </tr>\n",
       "  </tbody>\n",
       "</table>\n",
       "<p>43201 rows × 2 columns</p>\n",
       "</div>"
      ],
      "text/plain": [
       "       Segundo      Demanda\n",
       "0          0.0  7284.051758\n",
       "1          2.0  7287.105957\n",
       "2          4.0  7292.275391\n",
       "3          6.0  7294.792969\n",
       "4          8.0  7298.662109\n",
       "...        ...          ...\n",
       "43196  86392.0  7284.542969\n",
       "43197  86394.0  7279.739258\n",
       "43198  86396.0  7277.975098\n",
       "43199  86398.0  7284.878906\n",
       "43200  86400.0  7283.551758\n",
       "\n",
       "[43201 rows x 2 columns]"
      ]
     },
     "execution_count": 13,
     "metadata": {},
     "output_type": "execute_result"
    }
   ],
   "source": [
    "data_seg_inv[\"Demanda\"] = DEM_INV[\"Demanda\"]\n",
    "data_seg_inv"
   ]
  },
  {
   "cell_type": "markdown",
   "metadata": {},
   "source": [
    "#### Calculando área bajo la curva usando trapz:"
   ]
  },
  {
   "cell_type": "code",
   "execution_count": 14,
   "metadata": {},
   "outputs": [
    {
     "name": "stdout",
     "output_type": "stream",
     "text": [
      "680,048,317.46\n"
     ]
    }
   ],
   "source": [
    "dem_trapz_inv = np.trapz(data_seg_inv.Demanda, data_seg_inv.Segundo)\n",
    "print(f\"{dem_trapz_inv:,.2f}\")"
   ]
  },
  {
   "cell_type": "markdown",
   "metadata": {},
   "source": [
    "#### Calculando área bajo la curva usando promedio de altura mínima y máxima:"
   ]
  },
  {
   "cell_type": "code",
   "execution_count": 15,
   "metadata": {},
   "outputs": [
    {
     "name": "stdout",
     "output_type": "stream",
     "text": [
      "Max:  8,783.64\n",
      "Min:  6,600.70\n"
     ]
    }
   ],
   "source": [
    "dem_inv = data_seg_inv[\"Demanda\"]\n",
    "dem_max_inv = dem_inv.max()\n",
    "dem_min_inv = dem_inv.min()\n",
    "print(\"Max: \", f\"{dem_max_inv:,.2f}\")\n",
    "print(\"Min: \", f\"{dem_min_inv:,.2f}\")"
   ]
  },
  {
   "cell_type": "code",
   "execution_count": 16,
   "metadata": {},
   "outputs": [
    {
     "name": "stdout",
     "output_type": "stream",
     "text": [
      "664,603,270.31\n"
     ]
    }
   ],
   "source": [
    "dem_prom_inv = ((dem_max_inv+dem_min_inv)/2)*86400\n",
    "print(f\"{dem_prom_inv:,.2f}\")"
   ]
  },
  {
   "cell_type": "markdown",
   "metadata": {},
   "source": [
    "#### Diferencia en porcentajes de datos de 1 día de invierno, usando trapz y considerando promedio de mínimo y máximo:"
   ]
  },
  {
   "cell_type": "code",
   "execution_count": 22,
   "metadata": {},
   "outputs": [
    {
     "name": "stdout",
     "output_type": "stream",
     "text": [
      "El cálculo cada 2 segundos arroja un área 2.27 % mayor, que considerando el promedio del mínimo y máximo diario.\n"
     ]
    }
   ],
   "source": [
    "dif_inv = dem_trapz_inv - dem_prom_inv\n",
    "dif_pc_inv = dif_inv*100/dem_trapz_inv\n",
    "print(\"El cálculo cada 2 segundos arroja un área\", f\"{dif_pc_inv:,.2f}\", \"% mayor, que considerando el promedio del mínimo y máximo diario.\")"
   ]
  },
  {
   "cell_type": "markdown",
   "metadata": {},
   "source": [
    "### Graficando:"
   ]
  },
  {
   "cell_type": "code",
   "execution_count": 23,
   "metadata": {},
   "outputs": [],
   "source": [
    "#Puntos para graficar:\n",
    "x_values_inv = [0,24]\n",
    "y_max_inv = [dem_max_inv, dem_max_inv]\n",
    "y_min_inv = [dem_min_inv, dem_min_inv]\n",
    "y_prom_inv = [(dem_max_inv+dem_min_inv)/2, (dem_max_inv+dem_min_inv)/2]"
   ]
  },
  {
   "cell_type": "code",
   "execution_count": 24,
   "metadata": {},
   "outputs": [
    {
     "data": {
      "image/png": "[encoded data removed]",
      "text/plain": [
       "<Figure size 1440x720 with 1 Axes>"
      ]
     },
     "metadata": {
      "needs_background": "light"
     },
     "output_type": "display_data"
    }
   ],
   "source": [
    "fig = plt.figure(figsize=(20,10))\n",
    "plt.plot((data_seg_inv.Segundo/3600), data_seg_inv.Demanda)\n",
    "plt.title(\"Consumo de energía eléctrica en un día de invierno\", fontsize = 16)\n",
    "plt.xlim(0, 24)\n",
    "plt.xticks(np.arange(0, 24, step=2))\n",
    "plt.xlabel('Hora del día', fontsize = 12)\n",
    "plt.ylabel('Demanda (MWh)', fontsize= 12)\n",
    "plt.plot(x_values_inv,y_max_inv, color = \"red\")\n",
    "plt.plot(x_values_inv,y_min_inv, color = \"orange\")\n",
    "plt.plot(x_values_inv,y_prom_inv, \"g--\")\n",
    "plt.legend(['Datos.','Maximo.',\"Minimo.\",\"Promedio\"], loc=1)\n",
    "plt.grid(True)\n",
    "plt.show()"
   ]
  },
  {
   "cell_type": "code",
   "execution_count": null,
   "metadata": {},
   "outputs": [],
   "source": []
  }
 ],
 "metadata": {
  "kernelspec": {
   "display_name": "Python 3",
   "language": "python",
   "name": "python3"
  },
  "language_info": {
   "codemirror_mode": {
    "name": "ipython",
    "version": 3
   },
   "file_extension": ".py",
   "mimetype": "text/x-python",
   "name": "python",
   "nbconvert_exporter": "python",
   "pygments_lexer": "ipython3",
   "version": "3.6.9"
  }
 },
 "nbformat": 4,
 "nbformat_minor": 4
}
