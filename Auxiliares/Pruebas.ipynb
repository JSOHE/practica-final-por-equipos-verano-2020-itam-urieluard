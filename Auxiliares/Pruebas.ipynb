{
 "cells": [
  {
   "cell_type": "code",
   "execution_count": 2,
   "metadata": {},
   "outputs": [],
   "source": [
    "import pandas as pd\n",
    "import os"
   ]
  },
  {
   "cell_type": "code",
   "execution_count": 3,
   "metadata": {},
   "outputs": [],
   "source": [
    "import numpy as np"
   ]
  },
  {
   "cell_type": "code",
   "execution_count": 2,
   "metadata": {},
   "outputs": [
    {
     "data": {
      "text/plain": [
       "'/home/jovyan/B/practica-final-por-equipos-verano-2020-itam-urieluard/Auxiliares'"
      ]
     },
     "execution_count": 2,
     "metadata": {},
     "output_type": "execute_result"
    }
   ],
   "source": [
    "os.getcwd()"
   ]
  },
  {
   "cell_type": "code",
   "execution_count": 4,
   "metadata": {},
   "outputs": [],
   "source": [
    "data_1 = pd.read_csv(\"TS-SEN GCR SIN1.csv\")"
   ]
  },
  {
   "cell_type": "code",
   "execution_count": 5,
   "metadata": {},
   "outputs": [],
   "source": [
    "data_2 = pd.read_csv(\"Datos_csv.csv\")"
   ]
  },
  {
   "cell_type": "code",
   "execution_count": 6,
   "metadata": {},
   "outputs": [
    {
     "data": {
      "text/html": [
       "<div>\n",
       "<style scoped>\n",
       "    .dataframe tbody tr th:only-of-type {\n",
       "        vertical-align: middle;\n",
       "    }\n",
       "\n",
       "    .dataframe tbody tr th {\n",
       "        vertical-align: top;\n",
       "    }\n",
       "\n",
       "    .dataframe thead th {\n",
       "        text-align: right;\n",
       "    }\n",
       "</style>\n",
       "<table border=\"1\" class=\"dataframe\">\n",
       "  <thead>\n",
       "    <tr style=\"text-align: right;\">\n",
       "      <th></th>\n",
       "      <th>FECHA</th>\n",
       "      <th>SIN</th>\n",
       "    </tr>\n",
       "  </thead>\n",
       "  <tbody>\n",
       "    <tr>\n",
       "      <th>0</th>\n",
       "      <td>NaN</td>\n",
       "      <td>NaN</td>\n",
       "    </tr>\n",
       "    <tr>\n",
       "      <th>1</th>\n",
       "      <td>01/06/2019 00:00</td>\n",
       "      <td>1311.74</td>\n",
       "    </tr>\n",
       "    <tr>\n",
       "      <th>2</th>\n",
       "      <td>NaN</td>\n",
       "      <td>NaN</td>\n",
       "    </tr>\n",
       "    <tr>\n",
       "      <th>3</th>\n",
       "      <td>01/06/2019 00:01</td>\n",
       "      <td>1317.50</td>\n",
       "    </tr>\n",
       "    <tr>\n",
       "      <th>4</th>\n",
       "      <td>NaN</td>\n",
       "      <td>NaN</td>\n",
       "    </tr>\n",
       "  </tbody>\n",
       "</table>\n",
       "</div>"
      ],
      "text/plain": [
       "              FECHA      SIN\n",
       "0               NaN      NaN\n",
       "1  01/06/2019 00:00  1311.74\n",
       "2               NaN      NaN\n",
       "3  01/06/2019 00:01  1317.50\n",
       "4               NaN      NaN"
      ]
     },
     "execution_count": 6,
     "metadata": {},
     "output_type": "execute_result"
    }
   ],
   "source": [
    "data_1.head()"
   ]
  },
  {
   "cell_type": "code",
   "execution_count": 7,
   "metadata": {},
   "outputs": [
    {
     "data": {
      "text/html": [
       "<div>\n",
       "<style scoped>\n",
       "    .dataframe tbody tr th:only-of-type {\n",
       "        vertical-align: middle;\n",
       "    }\n",
       "\n",
       "    .dataframe tbody tr th {\n",
       "        vertical-align: top;\n",
       "    }\n",
       "\n",
       "    .dataframe thead th {\n",
       "        text-align: right;\n",
       "    }\n",
       "</style>\n",
       "<table border=\"1\" class=\"dataframe\">\n",
       "  <thead>\n",
       "    <tr style=\"text-align: right;\">\n",
       "      <th></th>\n",
       "      <th>SIN</th>\n",
       "    </tr>\n",
       "  </thead>\n",
       "  <tbody>\n",
       "    <tr>\n",
       "      <th>count</th>\n",
       "      <td>524287.000000</td>\n",
       "    </tr>\n",
       "    <tr>\n",
       "      <th>mean</th>\n",
       "      <td>3099.874830</td>\n",
       "    </tr>\n",
       "    <tr>\n",
       "      <th>std</th>\n",
       "      <td>1648.058436</td>\n",
       "    </tr>\n",
       "    <tr>\n",
       "      <th>min</th>\n",
       "      <td>171.250000</td>\n",
       "    </tr>\n",
       "    <tr>\n",
       "      <th>25%</th>\n",
       "      <td>1751.235000</td>\n",
       "    </tr>\n",
       "    <tr>\n",
       "      <th>50%</th>\n",
       "      <td>2830.340000</td>\n",
       "    </tr>\n",
       "    <tr>\n",
       "      <th>75%</th>\n",
       "      <td>4268.245000</td>\n",
       "    </tr>\n",
       "    <tr>\n",
       "      <th>max</th>\n",
       "      <td>8461.400000</td>\n",
       "    </tr>\n",
       "  </tbody>\n",
       "</table>\n",
       "</div>"
      ],
      "text/plain": [
       "                 SIN\n",
       "count  524287.000000\n",
       "mean     3099.874830\n",
       "std      1648.058436\n",
       "min       171.250000\n",
       "25%      1751.235000\n",
       "50%      2830.340000\n",
       "75%      4268.245000\n",
       "max      8461.400000"
      ]
     },
     "execution_count": 7,
     "metadata": {},
     "output_type": "execute_result"
    }
   ],
   "source": [
    "data_1.describe()"
   ]
  },
  {
   "cell_type": "code",
   "execution_count": 11,
   "metadata": {},
   "outputs": [
    {
     "data": {
      "text/html": [
       "<div>\n",
       "<style scoped>\n",
       "    .dataframe tbody tr th:only-of-type {\n",
       "        vertical-align: middle;\n",
       "    }\n",
       "\n",
       "    .dataframe tbody tr th {\n",
       "        vertical-align: top;\n",
       "    }\n",
       "\n",
       "    .dataframe thead th {\n",
       "        text-align: right;\n",
       "    }\n",
       "</style>\n",
       "<table border=\"1\" class=\"dataframe\">\n",
       "  <thead>\n",
       "    <tr style=\"text-align: right;\">\n",
       "      <th></th>\n",
       "      <th>muestras</th>\n",
       "      <th>anio</th>\n",
       "      <th>hora_inicio</th>\n",
       "      <th>hora_fin</th>\n",
       "      <th>dema_int</th>\n",
       "      <th>dem_inst</th>\n",
       "      <th>aniomovil</th>\n",
       "    </tr>\n",
       "  </thead>\n",
       "  <tbody>\n",
       "    <tr>\n",
       "      <th>count</th>\n",
       "      <td>25152.000000</td>\n",
       "      <td>25152.000000</td>\n",
       "      <td>25152.000000</td>\n",
       "      <td>25152.000000</td>\n",
       "      <td>25152.000000</td>\n",
       "      <td>25152.000000</td>\n",
       "      <td>25152.000000</td>\n",
       "    </tr>\n",
       "    <tr>\n",
       "      <th>mean</th>\n",
       "      <td>4209.362595</td>\n",
       "      <td>2018.605797</td>\n",
       "      <td>11.500000</td>\n",
       "      <td>12.500000</td>\n",
       "      <td>7745.438583</td>\n",
       "      <td>7734.933778</td>\n",
       "      <td>1.955153</td>\n",
       "    </tr>\n",
       "    <tr>\n",
       "      <th>std</th>\n",
       "      <td>2448.412619</td>\n",
       "      <td>0.919625</td>\n",
       "      <td>6.922324</td>\n",
       "      <td>6.922324</td>\n",
       "      <td>974.363777</td>\n",
       "      <td>977.956108</td>\n",
       "      <td>0.806060</td>\n",
       "    </tr>\n",
       "    <tr>\n",
       "      <th>min</th>\n",
       "      <td>1.000000</td>\n",
       "      <td>2017.000000</td>\n",
       "      <td>0.000000</td>\n",
       "      <td>1.000000</td>\n",
       "      <td>4288.339301</td>\n",
       "      <td>4230.882324</td>\n",
       "      <td>1.000000</td>\n",
       "    </tr>\n",
       "    <tr>\n",
       "      <th>25%</th>\n",
       "      <td>2096.750000</td>\n",
       "      <td>2018.000000</td>\n",
       "      <td>5.750000</td>\n",
       "      <td>6.750000</td>\n",
       "      <td>7011.455212</td>\n",
       "      <td>6998.106567</td>\n",
       "      <td>1.000000</td>\n",
       "    </tr>\n",
       "    <tr>\n",
       "      <th>50%</th>\n",
       "      <td>4192.500000</td>\n",
       "      <td>2019.000000</td>\n",
       "      <td>11.500000</td>\n",
       "      <td>12.500000</td>\n",
       "      <td>7807.317117</td>\n",
       "      <td>7794.049072</td>\n",
       "      <td>2.000000</td>\n",
       "    </tr>\n",
       "    <tr>\n",
       "      <th>75%</th>\n",
       "      <td>6288.250000</td>\n",
       "      <td>2019.000000</td>\n",
       "      <td>17.250000</td>\n",
       "      <td>18.250000</td>\n",
       "      <td>8484.490007</td>\n",
       "      <td>8478.522950</td>\n",
       "      <td>3.000000</td>\n",
       "    </tr>\n",
       "    <tr>\n",
       "      <th>max</th>\n",
       "      <td>8760.000000</td>\n",
       "      <td>2020.000000</td>\n",
       "      <td>23.000000</td>\n",
       "      <td>24.000000</td>\n",
       "      <td>10567.494660</td>\n",
       "      <td>11267.710940</td>\n",
       "      <td>3.000000</td>\n",
       "    </tr>\n",
       "  </tbody>\n",
       "</table>\n",
       "</div>"
      ],
      "text/plain": [
       "           muestras          anio   hora_inicio      hora_fin      dema_int  \\\n",
       "count  25152.000000  25152.000000  25152.000000  25152.000000  25152.000000   \n",
       "mean    4209.362595   2018.605797     11.500000     12.500000   7745.438583   \n",
       "std     2448.412619      0.919625      6.922324      6.922324    974.363777   \n",
       "min        1.000000   2017.000000      0.000000      1.000000   4288.339301   \n",
       "25%     2096.750000   2018.000000      5.750000      6.750000   7011.455212   \n",
       "50%     4192.500000   2019.000000     11.500000     12.500000   7807.317117   \n",
       "75%     6288.250000   2019.000000     17.250000     18.250000   8484.490007   \n",
       "max     8760.000000   2020.000000     23.000000     24.000000  10567.494660   \n",
       "\n",
       "           dem_inst     aniomovil  \n",
       "count  25152.000000  25152.000000  \n",
       "mean    7734.933778      1.955153  \n",
       "std      977.956108      0.806060  \n",
       "min     4230.882324      1.000000  \n",
       "25%     6998.106567      1.000000  \n",
       "50%     7794.049072      2.000000  \n",
       "75%     8478.522950      3.000000  \n",
       "max    11267.710940      3.000000  "
      ]
     },
     "execution_count": 11,
     "metadata": {},
     "output_type": "execute_result"
    }
   ],
   "source": [
    "data_2.describe()"
   ]
  },
  {
   "cell_type": "code",
   "execution_count": 12,
   "metadata": {},
   "outputs": [
    {
     "name": "stdout",
     "output_type": "stream",
     "text": [
      "<class 'pandas.core.frame.DataFrame'>\n",
      "RangeIndex: 25152 entries, 0 to 25151\n",
      "Data columns (total 8 columns):\n",
      " #   Column       Non-Null Count  Dtype  \n",
      "---  ------       --------------  -----  \n",
      " 0   muestras     25152 non-null  int64  \n",
      " 1   anio         25152 non-null  int64  \n",
      " 2   fecha        25152 non-null  object \n",
      " 3   hora_inicio  25152 non-null  int64  \n",
      " 4   hora_fin     25152 non-null  int64  \n",
      " 5   dema_int     25152 non-null  float64\n",
      " 6   dem_inst     25152 non-null  float64\n",
      " 7   aniomovil    25152 non-null  int64  \n",
      "dtypes: float64(2), int64(5), object(1)\n",
      "memory usage: 1.5+ MB\n"
     ]
    }
   ],
   "source": [
    "data_2.info()"
   ]
  },
  {
   "cell_type": "code",
   "execution_count": 6,
   "metadata": {},
   "outputs": [],
   "source": [
    "# Interpolación con n = 25151 para el grado del polinimio\n",
    "mpoints = 25152\n",
    "d = 25151\n",
    "x = np.linspace(0 , mpoints , mpoints)"
   ]
  },
  {
   "cell_type": "code",
   "execution_count": 19,
   "metadata": {},
   "outputs": [
    {
     "name": "stdout",
     "output_type": "stream",
     "text": [
      "[0.00000000e+00 1.00003976e+00 2.00007952e+00 ... 2.51499999e+04\n",
      " 2.51510000e+04 2.51520000e+04]\n"
     ]
    }
   ],
   "source": [
    "print(x)"
   ]
  },
  {
   "cell_type": "code",
   "execution_count": 21,
   "metadata": {},
   "outputs": [
    {
     "data": {
      "text/plain": [
       "0        6872.013385\n",
       "1        6660.573651\n",
       "2        6504.232961\n",
       "3        6435.836442\n",
       "4        6437.741557\n",
       "            ...     \n",
       "25147    8223.639187\n",
       "25148    8241.447436\n",
       "25149    8604.842271\n",
       "25150    8519.651856\n",
       "25151    8279.839812\n",
       "Name: dema_int, Length: 25152, dtype: float64"
      ]
     },
     "execution_count": 21,
     "metadata": {},
     "output_type": "execute_result"
    }
   ],
   "source": [
    "data_2.dema_int"
   ]
  },
  {
   "cell_type": "code",
   "execution_count": null,
   "metadata": {},
   "outputs": [],
   "source": [
    "coeff_3 = np.polyfit(x , data_2.dema_int , d)"
   ]
  }
 ],
 "metadata": {
  "kernelspec": {
   "display_name": "Python 3",
   "language": "python",
   "name": "python3"
  },
  "language_info": {
   "codemirror_mode": {
    "name": "ipython",
    "version": 3
   },
   "file_extension": ".py",
   "mimetype": "text/x-python",
   "name": "python",
   "nbconvert_exporter": "python",
   "pygments_lexer": "ipython3",
   "version": "3.6.9"
  }
 },
 "nbformat": 4,
 "nbformat_minor": 4
}
