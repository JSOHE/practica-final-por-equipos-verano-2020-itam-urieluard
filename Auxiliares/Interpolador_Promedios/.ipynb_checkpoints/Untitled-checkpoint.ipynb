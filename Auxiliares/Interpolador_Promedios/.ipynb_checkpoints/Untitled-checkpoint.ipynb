{
 "cells": [
  {
   "cell_type": "markdown",
   "metadata": {},
   "source": [
    "### **Consumo y Demanda de Energía en Sistemas de Potencia**\n",
    "\n",
    "#### **Objeto**\n",
    "\n",
    "Poner en práctica los conceptos y temas vistos en el curso propedéutico, a fin de plantear propuestas de aproximación para el análisis del comportamiento del consumo y la demanda de Energía Eléctrica (EE) en un sistema de potencia.\n",
    "\n",
    "#### **Contenido:**\n",
    "+ Definiciones\n",
    "+ Planteamientos de aproximación propuestos:\n",
    "+ Pronóstico de la demanda y consumo\n",
    "+ Cálculo de energía consumida\n",
    "+ Análisis estadístico del perfil de demanda y consumo\n",
    "+ Modelado del fenómeno (demanda/consumo de EE)\n",
    "+ Interpolación/Extrapolación\n",
    "+ Integrador de funciones\n",
    "+ Series de tiempo\n",
    "+ Conclusiones y trabajos futuros\n",
    "\n",
    "#### **Planteamientos**\n",
    "\n",
    "**1 - Pronóstico de la demanda y consumo**\n",
    "Dada una estadística de valores de demanda y consumo (de septiembre de 2017 a julio de 2020 –BD de trabajo) se pretende caracterizar un modelo polinomial para estimar los valores de demanda/consumo de los próximos meses.\n",
    "\n",
    "**¿Por qué?**\n",
    "El pronóstico del consumo y la demanda de energía eléctrica es una actividad esencial para la operación y planeación de los sistemas de potencia, a fin de garantizar su correcta operación en los diferentes horizontes de tiempo.\n",
    "\n",
    "**2 - Cálculo del consumo de energía**\n",
    "La información de consumo recabada en la BD de trabajo se calcula utilizando promedios para cada intervalo de 1 hora. Se desea calcular la energía de el mismo periodo utilizando funciones aproximadas que se ajusten a la forma de la curva de demanda y compararlas.\n",
    "\n",
    "**¿Por qué?**\n",
    "Es importante definir la granularidad de la información que se puede obtener de los sistemas de registros. Considerar periodos menores a 1 hora podría significar una gran cantidad de recursos para su almacenamiento y procesamiento. Por eso es importante definir hasta qué grado se pueden obtener estimaciones adecuadas con diferentes espaciamiento en las muestras. \n",
    "\n",
    "**3 - Análisis estadístico del perfil de demanda/consumo.\n",
    "La forma que tiene una curva de demanda presenta ciertos patrones que sugieren comportamientos repetitivos en diferentes horizontes de tiempo (día, semana, año). Se plantea analizar el fenómeno de demanda de energía y consumo como una serie de tiempo para obtener más información de su comportamiento.\n",
    "\n",
    "**¿Por qué?**\n",
    "Debido a las variaciones que presenta el fenómeno de demanda y consumo de EE es de interés dar una representación estadística para identificar patrones que se puedan predecir y ayuden en la toma de decisiones en la operación y planeación del sistema de potencia.\n",
    "\n"
   ]
  }
 ],
 "metadata": {
  "kernelspec": {
   "display_name": "Python 3",
   "language": "python",
   "name": "python3"
  },
  "language_info": {
   "codemirror_mode": {
    "name": "ipython",
    "version": 3
   },
   "file_extension": ".py",
   "mimetype": "text/x-python",
   "name": "python",
   "nbconvert_exporter": "python",
   "pygments_lexer": "ipython3",
   "version": "3.6.9"
  }
 },
 "nbformat": 4,
 "nbformat_minor": 4
}
