{
 "cells": [
  {
   "cell_type": "markdown",
   "metadata": {},
   "source": [
    "### **Consumo y Demanda de Energía en Sistemas de Potencia**\n",
    "\n",
    "#### **Objeto**\n",
    "\n",
    "Poner en práctica los conceptos y temas vistos en el curso propedéutico, a fin de plantear propuestas de aproximación para el análisis del comportamiento del consumo y la demanda de Energía Eléctrica (EE) en un sistema de potencia.\n",
    "\n",
    "#### **Contenido:**\n",
    "+ Definiciones\n",
    "+ Planteamientos de aproximación propuestos:\n",
    "+ Pronóstico de la demanda y consumo\n",
    "+ Cálculo de energía consumida\n",
    "+ Análisis estadístico del perfil de demanda y consumo\n",
    "+ Modelado del fenómeno (demanda/consumo de EE)\n",
    "+ Interpolación/Extrapolación\n",
    "+ Integrador de funciones\n",
    "+ Series de tiempo\n",
    "+ Conclusiones y trabajos futuros\n",
    "\n",
    "#### **Planteamientos**\n",
    "\n",
    "**1 - Pronóstico de la demanda y consumo**\n",
    "Dada una estadística de valores de demanda y consumo (de septiembre de 2017 a julio de 2020 –BD de trabajo) se pretende caracterizar un modelo polinomial para estimar los valores de demanda/consumo de los próximos meses.\n",
    "\n",
    "**¿Por qué?**\n",
    "El pronóstico del consumo y la demanda de energía eléctrica es una actividad esencial para la operación y planeación de los sistemas de potencia, a fin de garantizar su correcta operación en los diferentes horizontes de tiempo.\n",
    "\n",
    "**2 - Cálculo del consumo de energía**\n",
    "La información de consumo recabada en la BD de trabajo se calcula utilizando promedios para cada intervalo de 1 hora. Se desea calcular la energía de el mismo periodo utilizando funciones aproximadas que se ajusten a la forma de la curva de demanda y compararlas.\n",
    "\n",
    "**¿Por qué?**\n",
    "Es importante definir la granularidad de la información que se puede obtener de los sistemas de registros. Considerar periodos menores a 1 hora podría significar una gran cantidad de recursos para su almacenamiento y procesamiento. Por eso es importante definir hasta qué grado se pueden obtener estimaciones adecuadas con diferentes espaciamiento en las muestras. \n",
    "\n",
    "**3 - Análisis estadístico del perfil de demanda/consumo**\n",
    "La forma que tiene una curva de demanda presenta ciertos patrones que sugieren comportamientos repetitivos en diferentes horizontes de tiempo (día, semana, año). Se plantea analizar el fenómeno de demanda de energía y consumo como una serie de tiempo para obtener más información de su comportamiento.\n",
    "\n",
    "**¿Por qué?**\n",
    "Debido a las variaciones que presenta el fenómeno de demanda y consumo de EE es de interés dar una representación estadística para identificar patrones que se puedan predecir y ayuden en la toma de decisiones en la operación y planeación del sistema de potencia.\n",
    "\n",
    "#### **Visualización**\n",
    "\n"
   ]
  },
  {
   "cell_type": "code",
   "execution_count": 1,
   "metadata": {},
   "outputs": [],
   "source": [
    "import numpy as np\n",
    "import pandas as pd"
   ]
  },
  {
   "cell_type": "code",
   "execution_count": 8,
   "metadata": {},
   "outputs": [],
   "source": [
    "from matplotlib import pyplot as plt\n",
    "import seaborn as sns\n",
    "%matplotlib inline\n",
    "import warnings\n",
    "warnings.filterwarnings('ignore')"
   ]
  },
  {
   "cell_type": "code",
   "execution_count": 3,
   "metadata": {},
   "outputs": [
    {
     "data": {
      "text/html": [
       "<div>\n",
       "<style scoped>\n",
       "    .dataframe tbody tr th:only-of-type {\n",
       "        vertical-align: middle;\n",
       "    }\n",
       "\n",
       "    .dataframe tbody tr th {\n",
       "        vertical-align: top;\n",
       "    }\n",
       "\n",
       "    .dataframe thead th {\n",
       "        text-align: right;\n",
       "    }\n",
       "</style>\n",
       "<table border=\"1\" class=\"dataframe\">\n",
       "  <thead>\n",
       "    <tr style=\"text-align: right;\">\n",
       "      <th></th>\n",
       "      <th>muestras</th>\n",
       "      <th>anio</th>\n",
       "      <th>fecha</th>\n",
       "      <th>hora_inicio</th>\n",
       "      <th>hora_fin</th>\n",
       "      <th>dema_int</th>\n",
       "      <th>dem_inst</th>\n",
       "      <th>aniomovil</th>\n",
       "    </tr>\n",
       "  </thead>\n",
       "  <tbody>\n",
       "    <tr>\n",
       "      <th>0</th>\n",
       "      <td>1</td>\n",
       "      <td>2017</td>\n",
       "      <td>01-sep</td>\n",
       "      <td>0</td>\n",
       "      <td>1</td>\n",
       "      <td>6872.013385</td>\n",
       "      <td>6976.172363</td>\n",
       "      <td>1</td>\n",
       "    </tr>\n",
       "    <tr>\n",
       "      <th>1</th>\n",
       "      <td>2</td>\n",
       "      <td>2017</td>\n",
       "      <td>01-sep</td>\n",
       "      <td>1</td>\n",
       "      <td>2</td>\n",
       "      <td>6660.573651</td>\n",
       "      <td>6709.388672</td>\n",
       "      <td>1</td>\n",
       "    </tr>\n",
       "    <tr>\n",
       "      <th>2</th>\n",
       "      <td>3</td>\n",
       "      <td>2017</td>\n",
       "      <td>01-sep</td>\n",
       "      <td>2</td>\n",
       "      <td>3</td>\n",
       "      <td>6504.232961</td>\n",
       "      <td>6568.017090</td>\n",
       "      <td>1</td>\n",
       "    </tr>\n",
       "    <tr>\n",
       "      <th>3</th>\n",
       "      <td>4</td>\n",
       "      <td>2017</td>\n",
       "      <td>01-sep</td>\n",
       "      <td>3</td>\n",
       "      <td>4</td>\n",
       "      <td>6435.836442</td>\n",
       "      <td>6502.294434</td>\n",
       "      <td>1</td>\n",
       "    </tr>\n",
       "    <tr>\n",
       "      <th>4</th>\n",
       "      <td>5</td>\n",
       "      <td>2017</td>\n",
       "      <td>01-sep</td>\n",
       "      <td>4</td>\n",
       "      <td>5</td>\n",
       "      <td>6437.741557</td>\n",
       "      <td>6384.402344</td>\n",
       "      <td>1</td>\n",
       "    </tr>\n",
       "  </tbody>\n",
       "</table>\n",
       "</div>"
      ],
      "text/plain": [
       "   muestras  anio   fecha  hora_inicio  hora_fin     dema_int     dem_inst  \\\n",
       "0         1  2017  01-sep            0         1  6872.013385  6976.172363   \n",
       "1         2  2017  01-sep            1         2  6660.573651  6709.388672   \n",
       "2         3  2017  01-sep            2         3  6504.232961  6568.017090   \n",
       "3         4  2017  01-sep            3         4  6435.836442  6502.294434   \n",
       "4         5  2017  01-sep            4         5  6437.741557  6384.402344   \n",
       "\n",
       "   aniomovil  \n",
       "0          1  \n",
       "1          1  \n",
       "2          1  \n",
       "3          1  \n",
       "4          1  "
      ]
     },
     "execution_count": 3,
     "metadata": {},
     "output_type": "execute_result"
    }
   ],
   "source": [
    "# Dataset de trabajo\n",
    "data_horas = pd.read_csv(\"Datos_csv.csv\")\n",
    "data_horas.head(5)"
   ]
  },
  {
   "cell_type": "markdown",
   "metadata": {},
   "source": [
    "Cuyos datos estadísticos descriptivos son los siguientes"
   ]
  },
  {
   "cell_type": "code",
   "execution_count": 21,
   "metadata": {},
   "outputs": [],
   "source": [
    "list_int = np.array(list(data_horas[\"dema_int\"]))\n",
    "list_inst = np.array(list(data_horas[\"dem_inst\"]))"
   ]
  },
  {
   "cell_type": "code",
   "execution_count": 24,
   "metadata": {},
   "outputs": [
    {
     "data": {
      "text/html": [
       "<div>\n",
       "<style scoped>\n",
       "    .dataframe tbody tr th:only-of-type {\n",
       "        vertical-align: middle;\n",
       "    }\n",
       "\n",
       "    .dataframe tbody tr th {\n",
       "        vertical-align: top;\n",
       "    }\n",
       "\n",
       "    .dataframe thead th {\n",
       "        text-align: right;\n",
       "    }\n",
       "</style>\n",
       "<table border=\"1\" class=\"dataframe\">\n",
       "  <thead>\n",
       "    <tr style=\"text-align: right;\">\n",
       "      <th></th>\n",
       "      <th>Demanda Integrada</th>\n",
       "      <th>Demanda Instantánea</th>\n",
       "    </tr>\n",
       "  </thead>\n",
       "  <tbody>\n",
       "    <tr>\n",
       "      <th>0</th>\n",
       "      <td>6872.01</td>\n",
       "      <td>6976.172363</td>\n",
       "    </tr>\n",
       "    <tr>\n",
       "      <th>1</th>\n",
       "      <td>6660.57</td>\n",
       "      <td>6709.388672</td>\n",
       "    </tr>\n",
       "    <tr>\n",
       "      <th>2</th>\n",
       "      <td>6504.23</td>\n",
       "      <td>6568.017090</td>\n",
       "    </tr>\n",
       "    <tr>\n",
       "      <th>3</th>\n",
       "      <td>6435.84</td>\n",
       "      <td>6502.294434</td>\n",
       "    </tr>\n",
       "    <tr>\n",
       "      <th>4</th>\n",
       "      <td>6437.74</td>\n",
       "      <td>6384.402344</td>\n",
       "    </tr>\n",
       "  </tbody>\n",
       "</table>\n",
       "</div>"
      ],
      "text/plain": [
       "  Demanda Integrada  Demanda Instantánea\n",
       "0           6872.01          6976.172363\n",
       "1           6660.57          6709.388672\n",
       "2           6504.23          6568.017090\n",
       "3           6435.84          6502.294434\n",
       "4           6437.74          6384.402344"
      ]
     },
     "execution_count": 24,
     "metadata": {},
     "output_type": "execute_result"
    }
   ],
   "source": [
    "data_int = pd.DataFrame(list_int , columns = ['Demanda Integrada']) \n",
    "data_inst = pd.DataFrame(list_inst , columns = ['Demanda Instantánea']) \n",
    "data_int['Demanda Instantánea'] = data_inst['Demanda Instantánea']\n",
    "data_int.head(5)"
   ]
  },
  {
   "cell_type": "code",
   "execution_count": 25,
   "metadata": {},
   "outputs": [
    {
     "data": {
      "text/html": [
       "<div>\n",
       "<style scoped>\n",
       "    .dataframe tbody tr th:only-of-type {\n",
       "        vertical-align: middle;\n",
       "    }\n",
       "\n",
       "    .dataframe tbody tr th {\n",
       "        vertical-align: top;\n",
       "    }\n",
       "\n",
       "    .dataframe thead th {\n",
       "        text-align: right;\n",
       "    }\n",
       "</style>\n",
       "<table border=\"1\" class=\"dataframe\">\n",
       "  <thead>\n",
       "    <tr style=\"text-align: right;\">\n",
       "      <th></th>\n",
       "      <th>Demanda Instantánea</th>\n",
       "    </tr>\n",
       "  </thead>\n",
       "  <tbody>\n",
       "    <tr>\n",
       "      <th>count</th>\n",
       "      <td>25152.000000</td>\n",
       "    </tr>\n",
       "    <tr>\n",
       "      <th>mean</th>\n",
       "      <td>7734.933778</td>\n",
       "    </tr>\n",
       "    <tr>\n",
       "      <th>std</th>\n",
       "      <td>977.956108</td>\n",
       "    </tr>\n",
       "    <tr>\n",
       "      <th>min</th>\n",
       "      <td>4230.882324</td>\n",
       "    </tr>\n",
       "    <tr>\n",
       "      <th>25%</th>\n",
       "      <td>6998.106567</td>\n",
       "    </tr>\n",
       "    <tr>\n",
       "      <th>50%</th>\n",
       "      <td>7794.049072</td>\n",
       "    </tr>\n",
       "    <tr>\n",
       "      <th>75%</th>\n",
       "      <td>8478.522950</td>\n",
       "    </tr>\n",
       "    <tr>\n",
       "      <th>max</th>\n",
       "      <td>11267.710940</td>\n",
       "    </tr>\n",
       "  </tbody>\n",
       "</table>\n",
       "</div>"
      ],
      "text/plain": [
       "       Demanda Instantánea\n",
       "count         25152.000000\n",
       "mean           7734.933778\n",
       "std             977.956108\n",
       "min            4230.882324\n",
       "25%            6998.106567\n",
       "50%            7794.049072\n",
       "75%            8478.522950\n",
       "max           11267.710940"
      ]
     },
     "execution_count": 25,
     "metadata": {},
     "output_type": "execute_result"
    }
   ],
   "source": [
    "data_int.describe()"
   ]
  },
  {
   "cell_type": "markdown",
   "metadata": {},
   "source": [
    "Nos interesa, de momento, encontrar un modelo fiable que se ajuste a los datos de la demanda instantánea, que es el promedio de la energía consumida en una hora"
   ]
  },
  {
   "cell_type": "code",
   "execution_count": null,
   "metadata": {},
   "outputs": [],
   "source": []
  },
  {
   "cell_type": "markdown",
   "metadata": {},
   "source": [
    "Donde el promedio del consumo horario se muestra a continuación."
   ]
  },
  {
   "cell_type": "code",
   "execution_count": 5,
   "metadata": {},
   "outputs": [],
   "source": [
    "horas_tot = 25152 # Horas totales registradas\n",
    "num_d = int(horas_tot/24)\n",
    "prom_dia = []\n",
    "for i in range(0,num_d):\n",
    "    ini = 24*i\n",
    "    end = 24*(1+i)\n",
    "    data_i = data_horas[ini:end]\n",
    "    prom_dia.append(data_i[\"dem_inst\"].mean())"
   ]
  },
  {
   "cell_type": "code",
   "execution_count": 6,
   "metadata": {},
   "outputs": [],
   "source": [
    "prom_a_dia = np.array(prom_dia)\n",
    "x_dia = np.array(list(range(1,len(prom_dia)+1)))"
   ]
  },
  {
   "cell_type": "code",
   "execution_count": 7,
   "metadata": {},
   "outputs": [],
   "source": [
    "mpoints = len(prom_dia)\n",
    "x_dia_grph_1 = np.linspace(min(x_dia) , max(x_dia) , mpoints)\n",
    "y_dia_grph_1 = np.array(prom_dia)"
   ]
  },
  {
   "cell_type": "code",
   "execution_count": null,
   "metadata": {},
   "outputs": [],
   "source": [
    "plt.figure(figsize = (17.5,10))\n",
    "plt.plot(x_dia , prom_a_dia , color= 'white' ,\n",
    "         marker = '^' , markersize = 10.0 , markeredgecolor='black' , markerfacecolor = 'goldenrod')\n",
    "plt.plot(x_dia_grph_1 , y_dia_grph_1 , color = 'darkred' , alpha = 0.5)\n",
    "plt.title(\"Promedio de Consumo Diario\" , fontsize = 22 , color = 'darkred')\n",
    "plt.xlabel(\"Día\" , fontsize = 18 , color = 'darkred')\n",
    "plt.ylabel(\"Consumo\" , fontsize = 18 , color = 'darkred')\n",
    "plt.legend([\"Promedios\",\"Interpolador\"] , loc=0)\n",
    "plt.yticks(fontsize = 15)\n",
    "plt.xticks(fontsize = 15)\n",
    "plt.grid(True)\n",
    "plt.savefig('Promedio_Dia.png')\n",
    "plt.show()"
   ]
  }
 ],
 "metadata": {
  "kernelspec": {
   "display_name": "Python 3",
   "language": "python",
   "name": "python3"
  },
  "language_info": {
   "codemirror_mode": {
    "name": "ipython",
    "version": 3
   },
   "file_extension": ".py",
   "mimetype": "text/x-python",
   "name": "python",
   "nbconvert_exporter": "python",
   "pygments_lexer": "ipython3",
   "version": "3.6.9"
  }
 },
 "nbformat": 4,
 "nbformat_minor": 4
}
