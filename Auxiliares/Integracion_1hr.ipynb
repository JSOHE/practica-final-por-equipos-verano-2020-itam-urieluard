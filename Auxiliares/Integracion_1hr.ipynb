{
 "cells": [
  {
   "cell_type": "markdown",
   "metadata": {},
   "source": [
    "## Para calcular el área bajo la curva (datos de una hora):"
   ]
  },
  {
   "cell_type": "code",
   "execution_count": 1,
   "metadata": {},
   "outputs": [],
   "source": [
    "import pandas as pd\n",
    "import os\n",
    "import numpy as np\n",
    "from scipy.interpolate import interp1d\n",
    "import math\n",
    "import matplotlib.pyplot as plt\n",
    "import pprint"
   ]
  },
  {
   "cell_type": "code",
   "execution_count": 2,
   "metadata": {},
   "outputs": [
    {
     "data": {
      "text/plain": [
       "'/datos/Practica_final_equipos'"
      ]
     },
     "execution_count": 2,
     "metadata": {},
     "output_type": "execute_result"
    }
   ],
   "source": [
    "os.getcwd()"
   ]
  },
  {
   "cell_type": "markdown",
   "metadata": {},
   "source": [
    "### Generamos el DataFrame con los datos por segundo:"
   ]
  },
  {
   "cell_type": "code",
   "execution_count": 8,
   "metadata": {},
   "outputs": [],
   "source": [
    "data_segundos = pd.read_csv(\"Verano_16.csv\")\n",
    "seg = np.linspace(0, 86400, 43201)\n",
    "a_seg = np.array(seg)\n",
    "data_seg = pd.DataFrame(seg, columns = [\"Segundo\"]) \n",
    "DEM = pd.DataFrame(data_segundos.Demanda, columns = [\"Demanda\"])\n",
    "data_seg[\"Demanda\"] = DEM[\"Demanda\"]"
   ]
  },
  {
   "cell_type": "code",
   "execution_count": 9,
   "metadata": {},
   "outputs": [
    {
     "data": {
      "text/html": [
       "<div>\n",
       "<style scoped>\n",
       "    .dataframe tbody tr th:only-of-type {\n",
       "        vertical-align: middle;\n",
       "    }\n",
       "\n",
       "    .dataframe tbody tr th {\n",
       "        vertical-align: top;\n",
       "    }\n",
       "\n",
       "    .dataframe thead th {\n",
       "        text-align: right;\n",
       "    }\n",
       "</style>\n",
       "<table border=\"1\" class=\"dataframe\">\n",
       "  <thead>\n",
       "    <tr style=\"text-align: right;\">\n",
       "      <th></th>\n",
       "      <th>Segundo</th>\n",
       "      <th>Demanda</th>\n",
       "    </tr>\n",
       "  </thead>\n",
       "  <tbody>\n",
       "    <tr>\n",
       "      <th>0</th>\n",
       "      <td>0.0</td>\n",
       "      <td>8544.239258</td>\n",
       "    </tr>\n",
       "    <tr>\n",
       "      <th>1</th>\n",
       "      <td>2.0</td>\n",
       "      <td>8538.705078</td>\n",
       "    </tr>\n",
       "    <tr>\n",
       "      <th>2</th>\n",
       "      <td>4.0</td>\n",
       "      <td>8556.333008</td>\n",
       "    </tr>\n",
       "    <tr>\n",
       "      <th>3</th>\n",
       "      <td>6.0</td>\n",
       "      <td>8563.195312</td>\n",
       "    </tr>\n",
       "    <tr>\n",
       "      <th>4</th>\n",
       "      <td>8.0</td>\n",
       "      <td>8559.343750</td>\n",
       "    </tr>\n",
       "    <tr>\n",
       "      <th>...</th>\n",
       "      <td>...</td>\n",
       "      <td>...</td>\n",
       "    </tr>\n",
       "    <tr>\n",
       "      <th>43196</th>\n",
       "      <td>86392.0</td>\n",
       "      <td>8599.916992</td>\n",
       "    </tr>\n",
       "    <tr>\n",
       "      <th>43197</th>\n",
       "      <td>86394.0</td>\n",
       "      <td>8610.962891</td>\n",
       "    </tr>\n",
       "    <tr>\n",
       "      <th>43198</th>\n",
       "      <td>86396.0</td>\n",
       "      <td>8610.962891</td>\n",
       "    </tr>\n",
       "    <tr>\n",
       "      <th>43199</th>\n",
       "      <td>86398.0</td>\n",
       "      <td>8605.673828</td>\n",
       "    </tr>\n",
       "    <tr>\n",
       "      <th>43200</th>\n",
       "      <td>86400.0</td>\n",
       "      <td>8606.325195</td>\n",
       "    </tr>\n",
       "  </tbody>\n",
       "</table>\n",
       "<p>43201 rows × 2 columns</p>\n",
       "</div>"
      ],
      "text/plain": [
       "       Segundo      Demanda\n",
       "0          0.0  8544.239258\n",
       "1          2.0  8538.705078\n",
       "2          4.0  8556.333008\n",
       "3          6.0  8563.195312\n",
       "4          8.0  8559.343750\n",
       "...        ...          ...\n",
       "43196  86392.0  8599.916992\n",
       "43197  86394.0  8610.962891\n",
       "43198  86396.0  8610.962891\n",
       "43199  86398.0  8605.673828\n",
       "43200  86400.0  8606.325195\n",
       "\n",
       "[43201 rows x 2 columns]"
      ]
     },
     "execution_count": 9,
     "metadata": {},
     "output_type": "execute_result"
    }
   ],
   "source": [
    "data_seg"
   ]
  },
  {
   "cell_type": "code",
   "execution_count": 14,
   "metadata": {},
   "outputs": [
    {
     "data": {
      "text/html": [
       "<div>\n",
       "<style scoped>\n",
       "    .dataframe tbody tr th:only-of-type {\n",
       "        vertical-align: middle;\n",
       "    }\n",
       "\n",
       "    .dataframe tbody tr th {\n",
       "        vertical-align: top;\n",
       "    }\n",
       "\n",
       "    .dataframe thead th {\n",
       "        text-align: right;\n",
       "    }\n",
       "</style>\n",
       "<table border=\"1\" class=\"dataframe\">\n",
       "  <thead>\n",
       "    <tr style=\"text-align: right;\">\n",
       "      <th></th>\n",
       "      <th>Segundo</th>\n",
       "      <th>Demanda</th>\n",
       "    </tr>\n",
       "  </thead>\n",
       "  <tbody>\n",
       "    <tr>\n",
       "      <th>0</th>\n",
       "      <td>0.0</td>\n",
       "      <td>8544.239258</td>\n",
       "    </tr>\n",
       "    <tr>\n",
       "      <th>1</th>\n",
       "      <td>2.0</td>\n",
       "      <td>8538.705078</td>\n",
       "    </tr>\n",
       "    <tr>\n",
       "      <th>2</th>\n",
       "      <td>4.0</td>\n",
       "      <td>8556.333008</td>\n",
       "    </tr>\n",
       "    <tr>\n",
       "      <th>3</th>\n",
       "      <td>6.0</td>\n",
       "      <td>8563.195312</td>\n",
       "    </tr>\n",
       "    <tr>\n",
       "      <th>4</th>\n",
       "      <td>8.0</td>\n",
       "      <td>8559.343750</td>\n",
       "    </tr>\n",
       "    <tr>\n",
       "      <th>...</th>\n",
       "      <td>...</td>\n",
       "      <td>...</td>\n",
       "    </tr>\n",
       "    <tr>\n",
       "      <th>1796</th>\n",
       "      <td>3592.0</td>\n",
       "      <td>8044.067383</td>\n",
       "    </tr>\n",
       "    <tr>\n",
       "      <th>1797</th>\n",
       "      <td>3594.0</td>\n",
       "      <td>8044.067383</td>\n",
       "    </tr>\n",
       "    <tr>\n",
       "      <th>1798</th>\n",
       "      <td>3596.0</td>\n",
       "      <td>8048.309570</td>\n",
       "    </tr>\n",
       "    <tr>\n",
       "      <th>1799</th>\n",
       "      <td>3598.0</td>\n",
       "      <td>8051.222168</td>\n",
       "    </tr>\n",
       "    <tr>\n",
       "      <th>1800</th>\n",
       "      <td>3600.0</td>\n",
       "      <td>8040.556152</td>\n",
       "    </tr>\n",
       "  </tbody>\n",
       "</table>\n",
       "<p>1801 rows × 2 columns</p>\n",
       "</div>"
      ],
      "text/plain": [
       "      Segundo      Demanda\n",
       "0         0.0  8544.239258\n",
       "1         2.0  8538.705078\n",
       "2         4.0  8556.333008\n",
       "3         6.0  8563.195312\n",
       "4         8.0  8559.343750\n",
       "...       ...          ...\n",
       "1796   3592.0  8044.067383\n",
       "1797   3594.0  8044.067383\n",
       "1798   3596.0  8048.309570\n",
       "1799   3598.0  8051.222168\n",
       "1800   3600.0  8040.556152\n",
       "\n",
       "[1801 rows x 2 columns]"
      ]
     },
     "execution_count": 14,
     "metadata": {},
     "output_type": "execute_result"
    }
   ],
   "source": [
    "#Dejando sólo los datos de una hora:\n",
    "del_rows_1hr = range(1801,43201)\n",
    "data_seg_1hr = data_seg.drop(data_seg.index[del_rows_1hr], axis = 0)\n",
    "data_seg_1hr"
   ]
  },
  {
   "cell_type": "markdown",
   "metadata": {},
   "source": [
    "#### Calculando área bajo la curva usando trapz:"
   ]
  },
  {
   "cell_type": "code",
   "execution_count": 15,
   "metadata": {},
   "outputs": [
    {
     "name": "stdout",
     "output_type": "stream",
     "text": [
      "30,009,637.63\n"
     ]
    }
   ],
   "source": [
    "dem_trapz_1hr = np.trapz(data_seg_1hr.Demanda, data_seg_1hr.Segundo)\n",
    "print(f\"{dem_trapz_1hr:,.2f}\")"
   ]
  },
  {
   "cell_type": "markdown",
   "metadata": {},
   "source": [
    "#### Calculando área bajo la curva usando promedio de altura mínima y máxima:"
   ]
  },
  {
   "cell_type": "code",
   "execution_count": 16,
   "metadata": {},
   "outputs": [
    {
     "name": "stdout",
     "output_type": "stream",
     "text": [
      "Max:  8,655.43\n",
      "Min:  7,961.38\n"
     ]
    }
   ],
   "source": [
    "dem_1hr = data_seg_1hr[\"Demanda\"]\n",
    "dem_max_1hr = dem_1hr.max()\n",
    "dem_min_1hr = dem_1hr.min()\n",
    "print(\"Max: \", f\"{dem_max_1hr:,.2f}\")\n",
    "print(\"Min: \", f\"{dem_min_1hr:,.2f}\")"
   ]
  },
  {
   "cell_type": "code",
   "execution_count": 18,
   "metadata": {},
   "outputs": [
    {
     "name": "stdout",
     "output_type": "stream",
     "text": [
      "29,910,260.74\n"
     ]
    }
   ],
   "source": [
    "dem_prom_1hr = ((dem_max_1hr+dem_min_1hr)/2)*3600\n",
    "print(f\"{dem_prom_1hr:,.2f}\")"
   ]
  },
  {
   "cell_type": "markdown",
   "metadata": {},
   "source": [
    "#### Diferencia en porcentajes de datos de 1 hora, usando trapz y considerando promedio de mínimo y máximo:"
   ]
  },
  {
   "cell_type": "code",
   "execution_count": 19,
   "metadata": {},
   "outputs": [
    {
     "name": "stdout",
     "output_type": "stream",
     "text": [
      "0.33 %\n"
     ]
    }
   ],
   "source": [
    "dif_1hr = dem_trapz_1hr - dem_prom_1hr\n",
    "dif_pc_1hr = dif_1hr*100/dem_trapz_1hr\n",
    "print(f\"{dif_pc_1hr:,.2f}\", \"%\")"
   ]
  },
  {
   "cell_type": "code",
   "execution_count": null,
   "metadata": {},
   "outputs": [],
   "source": []
  }
 ],
 "metadata": {
  "kernelspec": {
   "display_name": "Python 3",
   "language": "python",
   "name": "python3"
  },
  "language_info": {
   "codemirror_mode": {
    "name": "ipython",
    "version": 3
   },
   "file_extension": ".py",
   "mimetype": "text/x-python",
   "name": "python",
   "nbconvert_exporter": "python",
   "pygments_lexer": "ipython3",
   "version": "3.6.9"
  }
 },
 "nbformat": 4,
 "nbformat_minor": 4
}
